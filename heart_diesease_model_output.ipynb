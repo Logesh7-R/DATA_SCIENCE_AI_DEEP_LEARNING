{
  "nbformat": 4,
  "nbformat_minor": 0,
  "metadata": {
    "colab": {
      "provenance": [],
      "authorship_tag": "ABX9TyNU6oZ1rsxxFyGMyjU2H8c2",
      "include_colab_link": true
    },
    "kernelspec": {
      "name": "python3",
      "display_name": "Python 3"
    },
    "language_info": {
      "name": "python"
    }
  },
  "cells": [
    {
      "cell_type": "markdown",
      "metadata": {
        "id": "view-in-github",
        "colab_type": "text"
      },
      "source": [
        "<a href=\"https://colab.research.google.com/github/Logesh7-R/DATA_SCIENCE_AI_DEEP_LEARNING/blob/main/heart_diesease_model_output.ipynb\" target=\"_parent\"><img src=\"https://colab.research.google.com/assets/colab-badge.svg\" alt=\"Open In Colab\"/></a>"
      ]
    },
    {
      "cell_type": "code",
      "execution_count": 8,
      "metadata": {
        "colab": {
          "base_uri": "https://localhost:8080/"
        },
        "id": "tyUzX45vfvHX",
        "outputId": "89613daa-867d-4e08-e353-ca92ef2dcdd7"
      },
      "outputs": [
        {
          "output_type": "stream",
          "name": "stdout",
          "text": [
            "Enter name:loki\n",
            "Enter age: 18\n",
            "Enter sex (Male/Female): male\n",
            "Enter resting blood pressure (restingBP): 150\n",
            "Enter maximum heart rate (maxHR): 200\n",
            "1/1 [==============================] - 0s 61ms/step\n"
          ]
        },
        {
          "output_type": "stream",
          "name": "stderr",
          "text": [
            "/usr/local/lib/python3.10/dist-packages/sklearn/base.py:439: UserWarning: X does not have valid feature names, but StandardScaler was fitted with feature names\n",
            "  warnings.warn(\n"
          ]
        }
      ],
      "source": [
        "import numpy as np\n",
        "import joblib\n",
        "\n",
        "model = joblib.load('model.pkl')\n",
        "enc = joblib.load('label_encoder.pkl')\n",
        "scaler = joblib.load('standard_scaler.pkl')\n",
        "\n",
        "name = input('Enter name:')\n",
        "age_val = float(input(\"Enter age: \"))\n",
        "sex_val = input(\"Enter sex (Male/Female): \").capitalize()\n",
        "sex_val = sex_val[0]\n",
        "restingBP_val = float(input(\"Enter resting blood pressure (restingBP): \"))\n",
        "maxHR_val = float(input(\"Enter maximum heart rate (maxHR): \"))\n",
        "\n",
        "sex_encoded = enc.transform([sex_val])[0]\n",
        "\n",
        "input_data = np.array([[age_val, sex_encoded, restingBP_val, maxHR_val]])\n",
        "input_data_scaled = scaler.transform(input_data)\n",
        "\n",
        "predictions = model.predict(input_data_scaled)\n",
        "\n",
        "threshold = 0.5\n",
        "binary_output = np.where(predictions > threshold, 1, 0)\n",
        "\n",
        "\n"
      ]
    },
    {
      "cell_type": "code",
      "source": [
        "if binary_output == 1:\n",
        "    print(f\"{name} is likely to have heart disease.\")\n",
        "else:\n",
        "    print(f\"{name} is unlikely to have heart disease.\")"
      ],
      "metadata": {
        "colab": {
          "base_uri": "https://localhost:8080/"
        },
        "id": "rJoUSPp9f47W",
        "outputId": "4421d372-f613-4293-ec66-eefcf897390a"
      },
      "execution_count": 9,
      "outputs": [
        {
          "output_type": "stream",
          "name": "stdout",
          "text": [
            "loki is unlikely to have heart disease.\n"
          ]
        }
      ]
    },
    {
      "cell_type": "code",
      "source": [],
      "metadata": {
        "id": "_E6i8fpChccv"
      },
      "execution_count": null,
      "outputs": []
    }
  ]
}