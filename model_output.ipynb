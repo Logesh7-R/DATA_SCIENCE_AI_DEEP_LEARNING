{
  "nbformat": 4,
  "nbformat_minor": 0,
  "metadata": {
    "colab": {
      "provenance": [],
      "authorship_tag": "ABX9TyOdZt8T8mi/Buqq9GMsmNcX",
      "include_colab_link": true
    },
    "kernelspec": {
      "name": "python3",
      "display_name": "Python 3"
    },
    "language_info": {
      "name": "python"
    }
  },
  "cells": [
    {
      "cell_type": "markdown",
      "metadata": {
        "id": "view-in-github",
        "colab_type": "text"
      },
      "source": [
        "<a href=\"https://colab.research.google.com/github/Logesh7-R/DATA_SCIENCE_AI_DEEP_LEARNING/blob/main/model_output.ipynb\" target=\"_parent\"><img src=\"https://colab.research.google.com/assets/colab-badge.svg\" alt=\"Open In Colab\"/></a>"
      ]
    },
    {
      "cell_type": "code",
      "execution_count": null,
      "metadata": {
        "colab": {
          "base_uri": "https://localhost:8080/"
        },
        "id": "tyUzX45vfvHX",
        "outputId": "32dcd849-c237-4b3e-e293-848c643d519a"
      },
      "outputs": [
        {
          "output_type": "stream",
          "name": "stderr",
          "text": [
            "/usr/local/lib/python3.10/dist-packages/keras/src/saving/saving_lib.py:396: UserWarning: Skipping variable loading for optimizer 'rmsprop', because it has 10 variables whereas the saved optimizer has 18 variables. \n",
            "  trackable.load_own_variables(weights_store.get(inner_path))\n",
            "/usr/local/lib/python3.10/dist-packages/sklearn/base.py:376: InconsistentVersionWarning: Trying to unpickle estimator LabelEncoder from version 1.2.2 when using version 1.4.1.post1. This might lead to breaking code or invalid results. Use at your own risk. For more info please refer to:\n",
            "https://scikit-learn.org/stable/model_persistence.html#security-maintainability-limitations\n",
            "  warnings.warn(\n",
            "/usr/local/lib/python3.10/dist-packages/sklearn/base.py:376: InconsistentVersionWarning: Trying to unpickle estimator StandardScaler from version 1.2.2 when using version 1.4.1.post1. This might lead to breaking code or invalid results. Use at your own risk. For more info please refer to:\n",
            "https://scikit-learn.org/stable/model_persistence.html#security-maintainability-limitations\n",
            "  warnings.warn(\n"
          ]
        }
      ],
      "source": [
        "import numpy as np\n",
        "import joblib\n",
        "from tensorflow.keras.models import load_model\n",
        "\n",
        "model = load_model('model (1).keras')\n",
        "enc = joblib.load('label_encoder.pkl')\n",
        "scaler = joblib.load('standard_scaler.pkl')\n",
        "\n",
        "name = input('Enter name:')\n",
        "age_val = float(input(\"Enter age: \"))\n",
        "sex_val = input(\"Enter sex (Male/Female): \").capitalize()\n",
        "sex_val = sex_val[0]\n",
        "restingBP_val = float(input(\"Enter resting blood pressure (restingBP): \"))\n",
        "maxHR_val = float(input(\"Enter maximum heart rate (maxHR): \"))\n",
        "\n",
        "sex_encoded = enc.transform([sex_val])[0]\n",
        "\n",
        "input_data = np.array([[age_val, sex_encoded, restingBP_val, maxHR_val]])\n",
        "input_data_scaled = scaler.transform(input_data)\n",
        "\n",
        "predictions = model.predict(input_data_scaled)\n",
        "\n",
        "threshold = 0.5\n",
        "binary_output = np.where(predictions > threshold, 1, 0)\n",
        "\n",
        "if binary_output == 1:\n",
        "    print(f\"{name} is likely to have heart disease.\")\n",
        "else:\n",
        "    print(f\"{name} is unlikely to have heart disease.\")"
      ]
    },
    {
      "cell_type": "code",
      "source": [
        "if binary_output == 1:\n",
        "    print(f\"{name} is likely to have heart disease.\")\n",
        "else:\n",
        "    print(f\"{name} is unlikely to have heart disease.\")"
      ],
      "metadata": {
        "colab": {
          "base_uri": "https://localhost:8080/"
        },
        "id": "rJoUSPp9f47W",
        "outputId": "a95c5c4c-7a51-4deb-c629-9bfe928adead"
      },
      "execution_count": 7,
      "outputs": [
        {
          "output_type": "stream",
          "name": "stdout",
          "text": [
            "loki is likely to have heart disease.\n"
          ]
        }
      ]
    },
    {
      "cell_type": "code",
      "source": [],
      "metadata": {
        "id": "dDXHhUy0Xt8c"
      },
      "execution_count": null,
      "outputs": []
    }
  ]
}